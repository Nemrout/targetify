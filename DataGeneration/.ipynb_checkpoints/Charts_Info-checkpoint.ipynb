{
 "cells": [
  {
   "cell_type": "code",
   "execution_count": 1,
   "id": "e538d557",
   "metadata": {},
   "outputs": [],
   "source": [
    "import pandas as pd"
   ]
  },
  {
   "cell_type": "code",
   "execution_count": 21,
   "id": "33b30b34",
   "metadata": {},
   "outputs": [],
   "source": [
    "class PageVersion:\n",
    "    \n",
    "    def __init__(self, page_name, code, description):\n",
    "        self.page_name = page_name\n",
    "        self.code = code\n",
    "        self.description = description\n",
    "        "
   ]
  },
  {
   "cell_type": "code",
   "execution_count": 49,
   "id": "6ab3612b",
   "metadata": {},
   "outputs": [],
   "source": [
    "df = pd.read_csv(\"pages_info.csv\")\n",
    "df_version_code = df[[\"page.version\", \"group.codes\"]]\n"
   ]
  },
  {
   "cell_type": "code",
   "execution_count": 51,
   "id": "81fa7184",
   "metadata": {},
   "outputs": [],
   "source": [
    "df = pd.read_csv(\"pages_info.csv\")"
   ]
  },
  {
   "cell_type": "code",
   "execution_count": 52,
   "id": "a7a4d29e",
   "metadata": {},
   "outputs": [],
   "source": [
    "df[\"page_name\"] = df[\"page.version\"].apply(lambda x: x[:-2])"
   ]
  },
  {
   "cell_type": "code",
   "execution_count": 53,
   "id": "f7429776",
   "metadata": {},
   "outputs": [],
   "source": [
    "df = df[[\"page_name\", \"page.version\", \"group.codes\"]]\n",
    "df.columns = [\"page\", \"code\", \"description\"]"
   ]
  },
  {
   "cell_type": "code",
   "execution_count": 54,
   "id": "66b7c3d6",
   "metadata": {},
   "outputs": [
    {
     "data": {
      "text/plain": [
       "[PageVersion(main.0 | original),\n",
       " PageVersion(main.1 | title on left & login button is red),\n",
       " PageVersion(main.2 | title on right & login button is red),\n",
       " PageVersion(main.3 | title on left & login button is orange),\n",
       " PageVersion(main.4 | title on right & login button is orange),\n",
       " PageVersion(main.5 | smooth scrolling enabled),\n",
       " PageVersion(main.6 | support window in bottom-right corner),\n",
       " PageVersion(main.7 | pricing bolded),\n",
       " PageVersion(main.8 | menu is dropdown),\n",
       " PageVersion(main.9 | website map at the bottom),\n",
       " PageVersion(login.0 | original),\n",
       " PageVersion(login.1 | text fields bolded),\n",
       " PageVersion(login.2 | instruction showed),\n",
       " PageVersion(login.3 | text fields magnified),\n",
       " PageVersion(login.4 | name and surname required),\n",
       " PageVersion(login.5 | difficult password required),\n",
       " PageVersion(login.6 | tooltip for textfields visible),\n",
       " PageVersion(login.7 | captcha),\n",
       " PageVersion(login.8 | verification email),\n",
       " PageVersion(login.9 | email required),\n",
       " PageVersion(pricing.0 | original),\n",
       " PageVersion(pricing.1 | pricing ascending order),\n",
       " PageVersion(pricing.2 | prices bolded),\n",
       " PageVersion(pricing.3 | prices italiazed),\n",
       " PageVersion(pricing.4 | features list is manual),\n",
       " PageVersion(pricing.5 | page is long),\n",
       " PageVersion(pricing.6 | a lot of text),\n",
       " PageVersion(pricing.7 | can pay right away),\n",
       " PageVersion(pricing.8 | consultation button),\n",
       " PageVersion(pricing.9 | captcha)]"
      ]
     },
     "execution_count": 54,
     "metadata": {},
     "output_type": "execute_result"
    }
   ],
   "source": [
    "[PageVersion(row[1][\"page.version\"], row[1][\"group.codes\"]) for row in df.iterrows()]"
   ]
  },
  {
   "cell_type": "code",
   "execution_count": null,
   "id": "94f17988",
   "metadata": {},
   "outputs": [],
   "source": []
  }
 ],
 "metadata": {
  "kernelspec": {
   "display_name": "Python 3",
   "language": "python",
   "name": "python3"
  },
  "language_info": {
   "codemirror_mode": {
    "name": "ipython",
    "version": 3
   },
   "file_extension": ".py",
   "mimetype": "text/x-python",
   "name": "python",
   "nbconvert_exporter": "python",
   "pygments_lexer": "ipython3",
   "version": "3.8.3"
  }
 },
 "nbformat": 4,
 "nbformat_minor": 5
}
