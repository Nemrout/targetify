{
 "cells": [
  {
   "cell_type": "code",
   "execution_count": 1,
   "id": "81d2ca60",
   "metadata": {},
   "outputs": [],
   "source": [
    "import numpy as np\n",
    "import pandas as pd\n",
    "from statsmodels.stats.power import TTestIndPower\n",
    "from scipy.stats import ttest_ind, shapiro\n",
    "import scipy.stats as stats\n",
    "from statsmodels.stats.multicomp import pairwise_tukeyhsd\n",
    "from scikit_posthocs import posthoc_tukey\n",
    "from statannotations.Annotator import Annotator\n",
    "import matplotlib.pyplot as plt\n",
    "import seaborn as sns"
   ]
  },
  {
   "cell_type": "code",
   "execution_count": 2,
   "id": "ecdf8a9f",
   "metadata": {},
   "outputs": [],
   "source": [
    "import warnings\n",
    "warnings.filterwarnings(\"ignore\")\n",
    "warnings.simplefilter(action='ignore', category=FutureWarning)"
   ]
  },
  {
   "cell_type": "code",
   "execution_count": 3,
   "id": "8c32a9db",
   "metadata": {},
   "outputs": [],
   "source": [
    "df_main = pd.read_csv(\"pagelite_main.csv\", index_col=0)\n",
    "df_login = pd.read_csv(\"pagelite_login.csv\", index_col=0)\n",
    "df_pricing = pd.read_csv(\"pagelite_pricing.csv\", index_col=0)"
   ]
  },
  {
   "cell_type": "code",
   "execution_count": 4,
   "id": "af26621f",
   "metadata": {},
   "outputs": [],
   "source": [
    "def Data_Prep(dataframe, group, target):\n",
    "    \n",
    "    dataframe[group] = dataframe[group].apply(str)\n",
    "    \n",
    "    def is_outlier(s):\n",
    "        Q1 = s.quantile(0.25)\n",
    "        Q3 = s.quantile(0.75)\n",
    "        IQR = Q3 - Q1\n",
    "        lower_limit = Q1 - 1.5 * IQR\n",
    "        upper_limit = Q3 + 1.5 * IQR\n",
    "        \n",
    "        return ~s.between(lower_limit, upper_limit)\n",
    "    \n",
    "    # Remove outliers\n",
    "    dataframe = dataframe[~dataframe.groupby(group)[target].apply(is_outlier)]\n",
    "    dataframe.reset_index(drop=True, inplace=True)\n",
    "    \n",
    "    return dataframe"
   ]
  },
  {
   "cell_type": "code",
   "execution_count": 5,
   "id": "a886da08",
   "metadata": {},
   "outputs": [],
   "source": [
    "def Multivar_AB_Testing(dataframe, page_name, group, target):\n",
    "    \n",
    "    dataframe = Data_Prep(dataframe, group, target)\n",
    "    \n",
    "    # extract unique groups\n",
    "    groups = []\n",
    "    for g in dataframe[group].unique():\n",
    "        df = dataframe[dataframe[group]==g]\n",
    "        groups.append(df[target].values)\n",
    "    \n",
    "    # perform one-way ANONVA\n",
    "    anova = stats.f_oneway(*groups)\n",
    "    \n",
    "    if anova[1] < 0.05: # if p<0.05, then at least one of the mean values is significantly different\n",
    "        \n",
    "        # perform Tukey's test\n",
    "        tukey = pairwise_tukeyhsd(endog=dataframe[target],\n",
    "                                  groups=dataframe[group],\n",
    "                                  alpha=0.05)\n",
    "        df_tukey = pd.DataFrame(data=tukey._results_table.data[1:], \n",
    "                                columns=tukey._results_table.data[0])\n",
    "        \n",
    "        # fetch the info about the groups and merge\n",
    "        df_info = pd.read_csv(\"pages_info.csv\", usecols=[\"page.version\", \"group.codes\"])\n",
    "        df_info = df_info[df_info['page.version'].str.contains(page_name.lower())]\n",
    "        df_info['page.version.num'] = df_info['page.version'].str.split('.').str[1]\n",
    "        df = df_tukey.merge(df_info, left_on=\"group1\", right_on=\"page.version.num\").merge(df_info, left_on=\"group2\", right_on=\"page.version.num\")\n",
    "        df = df[[\"group1\", \"group.codes_x\", \"group2\", \"group.codes_y\", \"meandiff\", \"lower\", \"upper\", \"p-adj\", \"reject\"]]\n",
    "        df = df.rename({'group.codes_x': 'group1.codes', 'group.codes_y': 'group2.codes'}, axis=1)\n",
    "        \n",
    "    else:  # if p>0.05\n",
    "        return \"There is no significant difference across the means\"\n",
    "\n",
    "    return df"
   ]
  },
  {
   "cell_type": "code",
   "execution_count": 6,
   "id": "982a35a1",
   "metadata": {},
   "outputs": [
    {
     "data": {
      "text/html": [
       "<div>\n",
       "<style scoped>\n",
       "    .dataframe tbody tr th:only-of-type {\n",
       "        vertical-align: middle;\n",
       "    }\n",
       "\n",
       "    .dataframe tbody tr th {\n",
       "        vertical-align: top;\n",
       "    }\n",
       "\n",
       "    .dataframe thead th {\n",
       "        text-align: right;\n",
       "    }\n",
       "</style>\n",
       "<table border=\"1\" class=\"dataframe\">\n",
       "  <thead>\n",
       "    <tr style=\"text-align: right;\">\n",
       "      <th></th>\n",
       "      <th>group1</th>\n",
       "      <th>group1.codes</th>\n",
       "      <th>group2</th>\n",
       "      <th>group2.codes</th>\n",
       "      <th>meandiff</th>\n",
       "      <th>lower</th>\n",
       "      <th>upper</th>\n",
       "      <th>p-adj</th>\n",
       "      <th>reject</th>\n",
       "    </tr>\n",
       "  </thead>\n",
       "  <tbody>\n",
       "    <tr>\n",
       "      <th>0</th>\n",
       "      <td>0</td>\n",
       "      <td>original</td>\n",
       "      <td>1</td>\n",
       "      <td>title on left &amp; login button is red</td>\n",
       "      <td>-9.3231</td>\n",
       "      <td>-10.9054</td>\n",
       "      <td>-7.7408</td>\n",
       "      <td>0.0000</td>\n",
       "      <td>True</td>\n",
       "    </tr>\n",
       "    <tr>\n",
       "      <th>1</th>\n",
       "      <td>0</td>\n",
       "      <td>original</td>\n",
       "      <td>2</td>\n",
       "      <td>title on right &amp; login button is red</td>\n",
       "      <td>-9.2459</td>\n",
       "      <td>-10.8681</td>\n",
       "      <td>-7.6236</td>\n",
       "      <td>0.0000</td>\n",
       "      <td>True</td>\n",
       "    </tr>\n",
       "    <tr>\n",
       "      <th>2</th>\n",
       "      <td>1</td>\n",
       "      <td>title on left &amp; login button is red</td>\n",
       "      <td>2</td>\n",
       "      <td>title on right &amp; login button is red</td>\n",
       "      <td>0.0772</td>\n",
       "      <td>-1.2367</td>\n",
       "      <td>1.3912</td>\n",
       "      <td>1.0000</td>\n",
       "      <td>False</td>\n",
       "    </tr>\n",
       "    <tr>\n",
       "      <th>3</th>\n",
       "      <td>0</td>\n",
       "      <td>original</td>\n",
       "      <td>3</td>\n",
       "      <td>title on left &amp; login button is orange</td>\n",
       "      <td>-9.7365</td>\n",
       "      <td>-11.3154</td>\n",
       "      <td>-8.1576</td>\n",
       "      <td>0.0000</td>\n",
       "      <td>True</td>\n",
       "    </tr>\n",
       "    <tr>\n",
       "      <th>4</th>\n",
       "      <td>1</td>\n",
       "      <td>title on left &amp; login button is red</td>\n",
       "      <td>3</td>\n",
       "      <td>title on left &amp; login button is orange</td>\n",
       "      <td>-0.4134</td>\n",
       "      <td>-1.6734</td>\n",
       "      <td>0.8467</td>\n",
       "      <td>0.9898</td>\n",
       "      <td>False</td>\n",
       "    </tr>\n",
       "    <tr>\n",
       "      <th>5</th>\n",
       "      <td>2</td>\n",
       "      <td>title on right &amp; login button is red</td>\n",
       "      <td>3</td>\n",
       "      <td>title on left &amp; login button is orange</td>\n",
       "      <td>-0.4906</td>\n",
       "      <td>-1.8004</td>\n",
       "      <td>0.8192</td>\n",
       "      <td>0.9743</td>\n",
       "      <td>False</td>\n",
       "    </tr>\n",
       "    <tr>\n",
       "      <th>6</th>\n",
       "      <td>0</td>\n",
       "      <td>original</td>\n",
       "      <td>4</td>\n",
       "      <td>title on right &amp; login button is orange</td>\n",
       "      <td>-9.2225</td>\n",
       "      <td>-10.8566</td>\n",
       "      <td>-7.5885</td>\n",
       "      <td>0.0000</td>\n",
       "      <td>True</td>\n",
       "    </tr>\n",
       "    <tr>\n",
       "      <th>7</th>\n",
       "      <td>1</td>\n",
       "      <td>title on left &amp; login button is red</td>\n",
       "      <td>4</td>\n",
       "      <td>title on right &amp; login button is orange</td>\n",
       "      <td>0.1006</td>\n",
       "      <td>-1.2280</td>\n",
       "      <td>1.4292</td>\n",
       "      <td>1.0000</td>\n",
       "      <td>False</td>\n",
       "    </tr>\n",
       "    <tr>\n",
       "      <th>8</th>\n",
       "      <td>2</td>\n",
       "      <td>title on right &amp; login button is red</td>\n",
       "      <td>4</td>\n",
       "      <td>title on right &amp; login button is orange</td>\n",
       "      <td>0.0233</td>\n",
       "      <td>-1.3526</td>\n",
       "      <td>1.3992</td>\n",
       "      <td>1.0000</td>\n",
       "      <td>False</td>\n",
       "    </tr>\n",
       "    <tr>\n",
       "      <th>9</th>\n",
       "      <td>3</td>\n",
       "      <td>title on left &amp; login button is orange</td>\n",
       "      <td>4</td>\n",
       "      <td>title on right &amp; login button is orange</td>\n",
       "      <td>0.5139</td>\n",
       "      <td>-0.8106</td>\n",
       "      <td>1.8384</td>\n",
       "      <td>0.9676</td>\n",
       "      <td>False</td>\n",
       "    </tr>\n",
       "  </tbody>\n",
       "</table>\n",
       "</div>"
      ],
      "text/plain": [
       "  group1                            group1.codes group2  \\\n",
       "0      0                                original      1   \n",
       "1      0                                original      2   \n",
       "2      1     title on left & login button is red      2   \n",
       "3      0                                original      3   \n",
       "4      1     title on left & login button is red      3   \n",
       "5      2    title on right & login button is red      3   \n",
       "6      0                                original      4   \n",
       "7      1     title on left & login button is red      4   \n",
       "8      2    title on right & login button is red      4   \n",
       "9      3  title on left & login button is orange      4   \n",
       "\n",
       "                              group2.codes  meandiff    lower   upper   p-adj  \\\n",
       "0      title on left & login button is red   -9.3231 -10.9054 -7.7408  0.0000   \n",
       "1     title on right & login button is red   -9.2459 -10.8681 -7.6236  0.0000   \n",
       "2     title on right & login button is red    0.0772  -1.2367  1.3912  1.0000   \n",
       "3   title on left & login button is orange   -9.7365 -11.3154 -8.1576  0.0000   \n",
       "4   title on left & login button is orange   -0.4134  -1.6734  0.8467  0.9898   \n",
       "5   title on left & login button is orange   -0.4906  -1.8004  0.8192  0.9743   \n",
       "6  title on right & login button is orange   -9.2225 -10.8566 -7.5885  0.0000   \n",
       "7  title on right & login button is orange    0.1006  -1.2280  1.4292  1.0000   \n",
       "8  title on right & login button is orange    0.0233  -1.3526  1.3992  1.0000   \n",
       "9  title on right & login button is orange    0.5139  -0.8106  1.8384  0.9676   \n",
       "\n",
       "   reject  \n",
       "0    True  \n",
       "1    True  \n",
       "2   False  \n",
       "3    True  \n",
       "4   False  \n",
       "5   False  \n",
       "6    True  \n",
       "7   False  \n",
       "8   False  \n",
       "9   False  "
      ]
     },
     "execution_count": 6,
     "metadata": {},
     "output_type": "execute_result"
    }
   ],
   "source": [
    "Multivar_AB_Testing(df_main, \"main\", \"group\", \"clicks\").head(10)"
   ]
  },
  {
   "cell_type": "code",
   "execution_count": 7,
   "id": "6b26bc7d",
   "metadata": {},
   "outputs": [],
   "source": [
    "# test between two options\n",
    "\n",
    "def AB_Testing(dataframe, page_name, group, target, A, B):\n",
    "    \n",
    "    # apply multiple hypotheses testing and select the results of the given pair\n",
    "    df = Multivar_AB_Testing(dataframe, page_name, group, target)\n",
    "    df = df.loc[(df.group1==A) & (df.group2==B)].reset_index(drop=True)\n",
    "    \n",
    "    return df"
   ]
  },
  {
   "cell_type": "code",
   "execution_count": 8,
   "id": "123b6d07",
   "metadata": {},
   "outputs": [
    {
     "data": {
      "text/html": [
       "<div>\n",
       "<style scoped>\n",
       "    .dataframe tbody tr th:only-of-type {\n",
       "        vertical-align: middle;\n",
       "    }\n",
       "\n",
       "    .dataframe tbody tr th {\n",
       "        vertical-align: top;\n",
       "    }\n",
       "\n",
       "    .dataframe thead th {\n",
       "        text-align: right;\n",
       "    }\n",
       "</style>\n",
       "<table border=\"1\" class=\"dataframe\">\n",
       "  <thead>\n",
       "    <tr style=\"text-align: right;\">\n",
       "      <th></th>\n",
       "      <th>group1</th>\n",
       "      <th>group1.codes</th>\n",
       "      <th>group2</th>\n",
       "      <th>group2.codes</th>\n",
       "      <th>meandiff</th>\n",
       "      <th>lower</th>\n",
       "      <th>upper</th>\n",
       "      <th>p-adj</th>\n",
       "      <th>reject</th>\n",
       "    </tr>\n",
       "  </thead>\n",
       "  <tbody>\n",
       "    <tr>\n",
       "      <th>0</th>\n",
       "      <td>0</td>\n",
       "      <td>original</td>\n",
       "      <td>7</td>\n",
       "      <td>pricing bolded</td>\n",
       "      <td>-9.0819</td>\n",
       "      <td>-10.6952</td>\n",
       "      <td>-7.4685</td>\n",
       "      <td>0.0</td>\n",
       "      <td>True</td>\n",
       "    </tr>\n",
       "  </tbody>\n",
       "</table>\n",
       "</div>"
      ],
      "text/plain": [
       "  group1 group1.codes group2    group2.codes  meandiff    lower   upper  \\\n",
       "0      0     original      7  pricing bolded   -9.0819 -10.6952 -7.4685   \n",
       "\n",
       "   p-adj  reject  \n",
       "0    0.0    True  "
      ]
     },
     "execution_count": 8,
     "metadata": {},
     "output_type": "execute_result"
    }
   ],
   "source": [
    "AB_Testing(df_main, \"main\", \"group\", \"clicks\", \"0\", \"7\")"
   ]
  },
  {
   "cell_type": "code",
   "execution_count": 9,
   "id": "3eb7f661",
   "metadata": {},
   "outputs": [],
   "source": [
    "# take 2 options, return the better one and the difference\n",
    "\n",
    "def Better_Option(dataframe, page_name, group, target, A, B):\n",
    "    \n",
    "    # apply multiple hypotheses testing and select the results the given pair\n",
    "    df = AB_Testing(df_main, page_name, group, target, A, B)\n",
    "    \n",
    "    if df['reject'].iloc[0] == True:  # if there is significant difference\n",
    "        \n",
    "        meandiff = df['meandiff'].iloc[0]  \n",
    "        \n",
    "        if meandiff < 0:\n",
    "            return df['group1'][0], df['group1.codes'][0], abs(meandiff)\n",
    "        else:\n",
    "            return df['group2'][0], df['group2.codes'][0], abs(meandiff)\n",
    "        \n",
    "        # returns (better_group, better_group_code, effect)\n",
    "        \n",
    "    else:\n",
    "        return \"No Significant Difference\""
   ]
  },
  {
   "cell_type": "code",
   "execution_count": 10,
   "id": "f53e56d8",
   "metadata": {},
   "outputs": [
    {
     "data": {
      "text/plain": [
       "('0', 'original', 9.0819)"
      ]
     },
     "execution_count": 10,
     "metadata": {},
     "output_type": "execute_result"
    }
   ],
   "source": [
    "Better_Option(df_main, \"main\", \"group\", \"clicks\", \"0\", \"7\")"
   ]
  },
  {
   "cell_type": "code",
   "execution_count": 11,
   "id": "a420794c",
   "metadata": {},
   "outputs": [],
   "source": [
    "# return the page version with the best result of the given variable\n",
    "\n",
    "def Best_Option(dataframe, page_name, group, target):\n",
    "    \n",
    "    df1 = Multivar_AB_Testing(dataframe, page_name, group, target)\n",
    "    \n",
    "    df2 = df1.loc[(df1.reject==True)]  # select the pairs with significant difference\n",
    "    df2 = df2.loc[df2.meandiff==df2.meandiff.max()]  # select the pair with max difference\n",
    "    df2 = df2.reset_index(drop=True)\n",
    "    \n",
    "    if df2['meandiff'].iloc[0] < 0:\n",
    "        return df2['group1'][0], df2['group1.codes'][0]\n",
    "    else:\n",
    "        return df2['group2'][0], df2['group2.codes'][0]\n",
    "    \n",
    "    # returns (best_group, best_group_code)"
   ]
  },
  {
   "cell_type": "code",
   "execution_count": 12,
   "id": "ec432b63",
   "metadata": {},
   "outputs": [
    {
     "data": {
      "text/plain": [
       "('0', 'original')"
      ]
     },
     "execution_count": 12,
     "metadata": {},
     "output_type": "execute_result"
    }
   ],
   "source": [
    "Best_Option(df_main, \"main\", \"group\", \"clicks\")"
   ]
  },
  {
   "cell_type": "code",
   "execution_count": 13,
   "id": "a55ae3c0",
   "metadata": {},
   "outputs": [
    {
     "data": {
      "text/plain": [
       "('1', 'text fields bolded')"
      ]
     },
     "execution_count": 13,
     "metadata": {},
     "output_type": "execute_result"
    }
   ],
   "source": [
    "Best_Option(df_login, \"login\", \"group\", \"lifetime\")"
   ]
  },
  {
   "cell_type": "code",
   "execution_count": 14,
   "id": "2c9b6696",
   "metadata": {},
   "outputs": [],
   "source": [
    "def Comparison_Plot1(dataframe, page_name, group, target):\n",
    "    \n",
    "    dataframe = Data_Prep(dataframe, group, target)\n",
    "    \n",
    "    # perform Tukey's test\n",
    "    tukey = pairwise_tukeyhsd(endog=dataframe[target],\n",
    "                              groups=dataframe[group],\n",
    "                              alpha=0.05)\n",
    "    # return plot\n",
    "    return tukey.plot_simultaneous()"
   ]
  },
  {
   "cell_type": "code",
   "execution_count": 15,
   "id": "11715f9a",
   "metadata": {},
   "outputs": [
    {
     "data": {
      "image/png": "[encoded data removed]",
      "text/plain": [
       "<Figure size 1000x600 with 1 Axes>"
      ]
     },
     "execution_count": 15,
     "metadata": {},
     "output_type": "execute_result"
    }
   ],
   "source": [
    "Comparison_Plot1(df_main, \"main\", \"group\", \"clicks\")"
   ]
  },
  {
   "cell_type": "markdown",
   "id": "aafb9548",
   "metadata": {},
   "source": [
    "**Interpretation:** The plot shows the means (black dots) and the 95% confidence intervals (the horizontal lines) for each group. In the case above, the mean of clicks for Group 0 is significantly greater than that for all others, but among the Groups 1,2,...,9 there is no significant difference, since their confidence intervals overlap."
   ]
  },
  {
   "cell_type": "code",
   "execution_count": 16,
   "id": "1f3cc579",
   "metadata": {},
   "outputs": [
    {
     "data": {
      "image/png": "[encoded data removed]",
      "text/plain": [
       "<Figure size 1000x600 with 1 Axes>"
      ]
     },
     "execution_count": 16,
     "metadata": {},
     "output_type": "execute_result"
    }
   ],
   "source": [
    "Comparison_Plot1(df_login, \"login\", \"group\", \"lifetime\")"
   ]
  },
  {
   "cell_type": "code",
   "execution_count": 17,
   "id": "01959e28",
   "metadata": {},
   "outputs": [],
   "source": [
    "def Comparison_Plot2(dataframe, page_name, group, target):\n",
    "    \n",
    "    dataframe = Data_Prep(dataframe, group, target)\n",
    "    \n",
    "    tukey_df = posthoc_tukey(dataframe, val_col=target, \n",
    "                             group_col=group).sort_index().sort_index(axis=1)\n",
    "    remove = np.tril(np.ones(tukey_df.shape), k=0).astype(\"bool\")\n",
    "    tukey_df[remove] = np.nan\n",
    "    molten_df = tukey_df.melt(ignore_index=False).reset_index().dropna()\n",
    "    molten_df = molten_df.loc[molten_df.value < 0.05]\n",
    "    \n",
    "    ax = sns.boxplot(data=dataframe, x=group, y=target);\n",
    "    pairs = [(i[1][\"index\"], i[1][\"variable\"]) for i in molten_df.iterrows()];\n",
    "    p_values = [i[1][\"value\"] for i in molten_df.iterrows()];\n",
    "    annotator = Annotator(ax, pairs, data=dataframe, x=group, y=target);\n",
    "    annotator.configure(text_format=\"star\", loc=\"inside\");\n",
    "    annotator.set_pvalues_and_annotate(p_values);\n",
    "\n",
    "    return ax"
   ]
  },
  {
   "cell_type": "code",
   "execution_count": 27,
   "id": "9e132ac1",
   "metadata": {},
   "outputs": [
    {
     "name": "stdout",
     "output_type": "stream",
     "text": [
      "p-value annotation legend:\n",
      "      ns: p <= 1.00e+00\n",
      "       *: 1.00e-02 < p <= 5.00e-02\n",
      "      **: 1.00e-03 < p <= 1.00e-02\n",
      "     ***: 1.00e-04 < p <= 1.00e-03\n",
      "    ****: p <= 1.00e-04\n",
      "\n",
      "5 vs. 0: Custom statistical test, P_val:1.000e-03\n",
      "8 vs. 0: Custom statistical test, P_val:1.000e-03\n",
      "4 vs. 0: Custom statistical test, P_val:1.000e-03\n",
      "1 vs. 0: Custom statistical test, P_val:1.000e-03\n",
      "7 vs. 0: Custom statistical test, P_val:1.000e-03\n",
      "9 vs. 0: Custom statistical test, P_val:1.000e-03\n",
      "2 vs. 0: Custom statistical test, P_val:1.000e-03\n",
      "6 vs. 0: Custom statistical test, P_val:1.000e-03\n",
      "3 vs. 0: Custom statistical test, P_val:1.000e-03\n"
     ]
    },
    {
     "data": {
      "image/png": "[encoded data removed]",
      "text/plain": [
       "<Figure size 640x480 with 1 Axes>"
      ]
     },
     "metadata": {},
     "output_type": "display_data"
    }
   ],
   "source": [
    "ax1 = Comparison_Plot2(df_main, \"main\", \"group\", \"clicks\")\n",
    "plt.show()"
   ]
  },
  {
   "cell_type": "code",
   "execution_count": 28,
   "id": "c7741bf7",
   "metadata": {},
   "outputs": [
    {
     "name": "stdout",
     "output_type": "stream",
     "text": [
      "p-value annotation legend:\n",
      "      ns: p <= 1.00e+00\n",
      "       *: 1.00e-02 < p <= 5.00e-02\n",
      "      **: 1.00e-03 < p <= 1.00e-02\n",
      "     ***: 1.00e-04 < p <= 1.00e-03\n",
      "    ****: p <= 1.00e-04\n",
      "\n",
      "1 vs. 0: Custom statistical test, P_val:6.644e-03\n",
      "7 vs. 1: Custom statistical test, P_val:5.472e-03\n",
      "1 vs. 5: Custom statistical test, P_val:1.000e-03\n",
      "9 vs. 1: Custom statistical test, P_val:2.359e-03\n",
      "6 vs. 1: Custom statistical test, P_val:1.066e-02\n",
      "3 vs. 1: Custom statistical test, P_val:2.920e-03\n",
      "2 vs. 1: Custom statistical test, P_val:1.000e-03\n"
     ]
    },
    {
     "data": {
      "image/png": "[encoded data removed]",
      "text/plain": [
       "<Figure size 640x480 with 1 Axes>"
      ]
     },
     "metadata": {},
     "output_type": "display_data"
    }
   ],
   "source": [
    "ax2 = Comparison_Plot2(df_login, \"login\", \"group\", \"lifetime\")\n",
    "plt.show()"
   ]
  },
  {
   "cell_type": "markdown",
   "id": "9a1be6ca",
   "metadata": {},
   "source": [
    "*** - show pairs with significant difference."
   ]
  },
  {
   "cell_type": "markdown",
   "id": "7784cec2",
   "metadata": {},
   "source": [
    "***"
   ]
  },
  {
   "cell_type": "markdown",
   "id": "373fee34",
   "metadata": {},
   "source": [
    "### With Segmentation"
   ]
  },
  {
   "cell_type": "code",
   "execution_count": 20,
   "id": "e1b3ff1c",
   "metadata": {},
   "outputs": [],
   "source": [
    "def Data_Prep2(dataframe, group, target, segment, segment_target):\n",
    "    \n",
    "    dataframe[group] = dataframe[group].apply(str)\n",
    "    dataframe = dataframe.loc[dataframe[segment] == segment_target]\n",
    "    \n",
    "    def is_outlier(s):\n",
    "        Q1 = s.quantile(0.25)\n",
    "        Q3 = s.quantile(0.75)\n",
    "        IQR = Q3 - Q1\n",
    "        lower_limit = Q1 - 1.5 * IQR\n",
    "        upper_limit = Q3 + 1.5 * IQR\n",
    "        \n",
    "        return ~s.between(lower_limit, upper_limit)\n",
    "    \n",
    "    # Remove outliers\n",
    "    dataframe = dataframe[~dataframe.groupby(group)[target].apply(is_outlier)]\n",
    "    dataframe.reset_index(drop=True, inplace=True)\n",
    "    \n",
    "    return dataframe"
   ]
  },
  {
   "cell_type": "code",
   "execution_count": 21,
   "id": "11838f70",
   "metadata": {},
   "outputs": [
    {
     "data": {
      "text/html": [
       "<div>\n",
       "<style scoped>\n",
       "    .dataframe tbody tr th:only-of-type {\n",
       "        vertical-align: middle;\n",
       "    }\n",
       "\n",
       "    .dataframe tbody tr th {\n",
       "        vertical-align: top;\n",
       "    }\n",
       "\n",
       "    .dataframe thead th {\n",
       "        text-align: right;\n",
       "    }\n",
       "</style>\n",
       "<table border=\"1\" class=\"dataframe\">\n",
       "  <thead>\n",
       "    <tr style=\"text-align: right;\">\n",
       "      <th></th>\n",
       "      <th>id</th>\n",
       "      <th>group</th>\n",
       "      <th>clicks</th>\n",
       "      <th>lifetime</th>\n",
       "      <th>country</th>\n",
       "      <th>browser</th>\n",
       "      <th>date</th>\n",
       "    </tr>\n",
       "  </thead>\n",
       "  <tbody>\n",
       "    <tr>\n",
       "      <th>0</th>\n",
       "      <td>1</td>\n",
       "      <td>3</td>\n",
       "      <td>8</td>\n",
       "      <td>42.00</td>\n",
       "      <td>China</td>\n",
       "      <td>Chrome</td>\n",
       "      <td>2019-08-25 15:01:46</td>\n",
       "    </tr>\n",
       "    <tr>\n",
       "      <th>1</th>\n",
       "      <td>3</td>\n",
       "      <td>2</td>\n",
       "      <td>9</td>\n",
       "      <td>36.00</td>\n",
       "      <td>India</td>\n",
       "      <td>Chrome</td>\n",
       "      <td>2019-02-21 18:22:14</td>\n",
       "    </tr>\n",
       "    <tr>\n",
       "      <th>2</th>\n",
       "      <td>5</td>\n",
       "      <td>9</td>\n",
       "      <td>7</td>\n",
       "      <td>27.00</td>\n",
       "      <td>India</td>\n",
       "      <td>Chrome</td>\n",
       "      <td>2019-12-14 13:12:22</td>\n",
       "    </tr>\n",
       "    <tr>\n",
       "      <th>3</th>\n",
       "      <td>6</td>\n",
       "      <td>7</td>\n",
       "      <td>7</td>\n",
       "      <td>24.00</td>\n",
       "      <td>France</td>\n",
       "      <td>Chrome</td>\n",
       "      <td>2019-02-10 01:05:37</td>\n",
       "    </tr>\n",
       "    <tr>\n",
       "      <th>4</th>\n",
       "      <td>7</td>\n",
       "      <td>1</td>\n",
       "      <td>15</td>\n",
       "      <td>51.48</td>\n",
       "      <td>United States</td>\n",
       "      <td>Chrome</td>\n",
       "      <td>2019-10-08 14:57:03</td>\n",
       "    </tr>\n",
       "  </tbody>\n",
       "</table>\n",
       "</div>"
      ],
      "text/plain": [
       "   id group  clicks  lifetime        country browser                 date\n",
       "0   1     3       8     42.00          China  Chrome  2019-08-25 15:01:46\n",
       "1   3     2       9     36.00          India  Chrome  2019-02-21 18:22:14\n",
       "2   5     9       7     27.00          India  Chrome  2019-12-14 13:12:22\n",
       "3   6     7       7     24.00         France  Chrome  2019-02-10 01:05:37\n",
       "4   7     1      15     51.48  United States  Chrome  2019-10-08 14:57:03"
      ]
     },
     "execution_count": 21,
     "metadata": {},
     "output_type": "execute_result"
    }
   ],
   "source": [
    "Data_Prep2(df_main, \"group\", \"clicks\", \"browser\", \"Chrome\").head()"
   ]
  },
  {
   "cell_type": "code",
   "execution_count": 22,
   "id": "89e047ba",
   "metadata": {},
   "outputs": [],
   "source": [
    "def Multivar_AB_Testing2(dataframe, page_name, group, target, segment, segment_target):\n",
    "    \n",
    "    dataframe = Data_Prep2(dataframe, group, target, segment, segment_target)\n",
    "    \n",
    "    # extract unique groups\n",
    "    groups = []\n",
    "    for g in dataframe[group].unique():\n",
    "        df = dataframe[dataframe[group]==g]\n",
    "        groups.append(df[target].values)\n",
    "    \n",
    "    # perform one-way ANONVA\n",
    "    anova = stats.f_oneway(*groups)\n",
    "    \n",
    "    if anova[1] < 0.05: # if p<0.05, then at least one of the mean values is significantly different\n",
    "        \n",
    "        # perform Tukey's test\n",
    "        tukey = pairwise_tukeyhsd(endog=dataframe[target],\n",
    "                                  groups=dataframe[group],\n",
    "                                  alpha=0.05)\n",
    "        df_tukey = pd.DataFrame(data=tukey._results_table.data[1:], \n",
    "                                columns=tukey._results_table.data[0])\n",
    "        \n",
    "        # fetch the info about the groups and merge\n",
    "        df_info = pd.read_csv(\"pages_info.csv\", usecols=[\"page.version\", \"group.codes\"])\n",
    "        df_info = df_info[df_info['page.version'].str.contains(page_name.lower())]\n",
    "        df_info['page.version.num'] = df_info['page.version'].str.split('.').str[1]\n",
    "        df = df_tukey.merge(df_info, left_on=\"group1\", right_on=\"page.version.num\").merge(df_info, left_on=\"group2\", right_on=\"page.version.num\")\n",
    "        df = df[[\"group1\", \"group.codes_x\", \"group2\", \"group.codes_y\", \"meandiff\", \"lower\", \"upper\", \"p-adj\", \"reject\"]]\n",
    "        df = df.rename({'group.codes_x': 'group1.codes', 'group.codes_y': 'group2.codes'}, axis=1)\n",
    "        \n",
    "    else:  # if p>0.05\n",
    "        return \"There is no significant difference across the means\"\n",
    "\n",
    "    return df"
   ]
  },
  {
   "cell_type": "code",
   "execution_count": 23,
   "id": "5265beea",
   "metadata": {},
   "outputs": [
    {
     "data": {
      "text/html": [
       "<div>\n",
       "<style scoped>\n",
       "    .dataframe tbody tr th:only-of-type {\n",
       "        vertical-align: middle;\n",
       "    }\n",
       "\n",
       "    .dataframe tbody tr th {\n",
       "        vertical-align: top;\n",
       "    }\n",
       "\n",
       "    .dataframe thead th {\n",
       "        text-align: right;\n",
       "    }\n",
       "</style>\n",
       "<table border=\"1\" class=\"dataframe\">\n",
       "  <thead>\n",
       "    <tr style=\"text-align: right;\">\n",
       "      <th></th>\n",
       "      <th>group1</th>\n",
       "      <th>group1.codes</th>\n",
       "      <th>group2</th>\n",
       "      <th>group2.codes</th>\n",
       "      <th>meandiff</th>\n",
       "      <th>lower</th>\n",
       "      <th>upper</th>\n",
       "      <th>p-adj</th>\n",
       "      <th>reject</th>\n",
       "    </tr>\n",
       "  </thead>\n",
       "  <tbody>\n",
       "    <tr>\n",
       "      <th>0</th>\n",
       "      <td>0</td>\n",
       "      <td>original</td>\n",
       "      <td>1</td>\n",
       "      <td>title on left &amp; login button is red</td>\n",
       "      <td>-8.1692</td>\n",
       "      <td>-10.7578</td>\n",
       "      <td>-5.5807</td>\n",
       "      <td>0.0000</td>\n",
       "      <td>True</td>\n",
       "    </tr>\n",
       "    <tr>\n",
       "      <th>1</th>\n",
       "      <td>0</td>\n",
       "      <td>original</td>\n",
       "      <td>2</td>\n",
       "      <td>title on right &amp; login button is red</td>\n",
       "      <td>-7.8600</td>\n",
       "      <td>-10.5384</td>\n",
       "      <td>-5.1816</td>\n",
       "      <td>0.0000</td>\n",
       "      <td>True</td>\n",
       "    </tr>\n",
       "    <tr>\n",
       "      <th>2</th>\n",
       "      <td>1</td>\n",
       "      <td>title on left &amp; login button is red</td>\n",
       "      <td>2</td>\n",
       "      <td>title on right &amp; login button is red</td>\n",
       "      <td>0.3092</td>\n",
       "      <td>-1.5950</td>\n",
       "      <td>2.2135</td>\n",
       "      <td>1.0000</td>\n",
       "      <td>False</td>\n",
       "    </tr>\n",
       "    <tr>\n",
       "      <th>3</th>\n",
       "      <td>0</td>\n",
       "      <td>original</td>\n",
       "      <td>3</td>\n",
       "      <td>title on left &amp; login button is orange</td>\n",
       "      <td>-8.6818</td>\n",
       "      <td>-11.2658</td>\n",
       "      <td>-6.0979</td>\n",
       "      <td>0.0000</td>\n",
       "      <td>True</td>\n",
       "    </tr>\n",
       "    <tr>\n",
       "      <th>4</th>\n",
       "      <td>1</td>\n",
       "      <td>title on left &amp; login button is red</td>\n",
       "      <td>3</td>\n",
       "      <td>title on left &amp; login button is orange</td>\n",
       "      <td>-0.5126</td>\n",
       "      <td>-2.2816</td>\n",
       "      <td>1.2564</td>\n",
       "      <td>0.9958</td>\n",
       "      <td>False</td>\n",
       "    </tr>\n",
       "  </tbody>\n",
       "</table>\n",
       "</div>"
      ],
      "text/plain": [
       "  group1                         group1.codes group2  \\\n",
       "0      0                             original      1   \n",
       "1      0                             original      2   \n",
       "2      1  title on left & login button is red      2   \n",
       "3      0                             original      3   \n",
       "4      1  title on left & login button is red      3   \n",
       "\n",
       "                             group2.codes  meandiff    lower   upper   p-adj  \\\n",
       "0     title on left & login button is red   -8.1692 -10.7578 -5.5807  0.0000   \n",
       "1    title on right & login button is red   -7.8600 -10.5384 -5.1816  0.0000   \n",
       "2    title on right & login button is red    0.3092  -1.5950  2.2135  1.0000   \n",
       "3  title on left & login button is orange   -8.6818 -11.2658 -6.0979  0.0000   \n",
       "4  title on left & login button is orange   -0.5126  -2.2816  1.2564  0.9958   \n",
       "\n",
       "   reject  \n",
       "0    True  \n",
       "1    True  \n",
       "2   False  \n",
       "3    True  \n",
       "4   False  "
      ]
     },
     "execution_count": 23,
     "metadata": {},
     "output_type": "execute_result"
    }
   ],
   "source": [
    "Multivar_AB_Testing2(df_main, \"main\", \"group\", \"clicks\", \"browser\", \"Chrome\").head()"
   ]
  },
  {
   "cell_type": "code",
   "execution_count": 24,
   "id": "2ef98281",
   "metadata": {},
   "outputs": [],
   "source": [
    "def Comparison_Plot3(dataframe, page_name, group, target, segment, segment_target):\n",
    "    \n",
    "    dataframe = Data_Prep2(dataframe, group, target, segment, segment_target)\n",
    "    \n",
    "    # perform Tukey's test\n",
    "    tukey = pairwise_tukeyhsd(endog=dataframe[target],\n",
    "                              groups=dataframe[group],\n",
    "                              alpha=0.05)\n",
    "    # return plot\n",
    "    return tukey.plot_simultaneous()"
   ]
  },
  {
   "cell_type": "code",
   "execution_count": 25,
   "id": "5835d58d",
   "metadata": {},
   "outputs": [
    {
     "data": {
      "image/png": "[encoded data removed]",
      "text/plain": [
       "<Figure size 1000x600 with 1 Axes>"
      ]
     },
     "execution_count": 25,
     "metadata": {},
     "output_type": "execute_result"
    }
   ],
   "source": [
    "Comparison_Plot3(df_main, \"main\", \"group\", \"clicks\", \"browser\", \"Chrome\")"
   ]
  },
  {
   "cell_type": "code",
   "execution_count": null,
   "id": "9079b98a",
   "metadata": {},
   "outputs": [],
   "source": []
  }
 ],
 "metadata": {
  "kernelspec": {
   "display_name": "Python 3",
   "language": "python",
   "name": "python3"
  },
  "language_info": {
   "codemirror_mode": {
    "name": "ipython",
    "version": 3
   },
   "file_extension": ".py",
   "mimetype": "text/x-python",
   "name": "python",
   "nbconvert_exporter": "python",
   "pygments_lexer": "ipython3",
   "version": "3.8.8"
  }
 },
 "nbformat": 4,
 "nbformat_minor": 5
}
